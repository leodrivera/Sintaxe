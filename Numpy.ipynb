{
 "cells": [
  {
   "cell_type": "markdown",
   "id": "prescription-johnston",
   "metadata": {},
   "source": [
    "## Importa a lib"
   ]
  },
  {
   "cell_type": "code",
   "execution_count": 3,
   "id": "previous-antigua",
   "metadata": {},
   "outputs": [],
   "source": [
    "import numpy as np"
   ]
  },
  {
   "cell_type": "markdown",
   "id": "racial-geology",
   "metadata": {},
   "source": [
    "## Array Mathematics"
   ]
  },
  {
   "cell_type": "markdown",
   "id": "spread-luther",
   "metadata": {},
   "source": [
    "### Operações Aritméticas"
   ]
  },
  {
   "cell_type": "code",
   "execution_count": 19,
   "id": "naked-think",
   "metadata": {},
   "outputs": [],
   "source": [
    "a = np.array([1,2,3])\n",
    "b = np.array([2,0,1])\n",
    "x = np.array([[1,3],[5,3]])\n",
    "z = np.array([[0,1],[2,0]])"
   ]
  },
  {
   "cell_type": "markdown",
   "id": "driving-gravity",
   "metadata": {},
   "source": [
    "#### Multiplicação Hadamart\n",
    "Multiplicação de elemente a elemento"
   ]
  },
  {
   "cell_type": "code",
   "execution_count": 25,
   "id": "mounted-basin",
   "metadata": {},
   "outputs": [
    {
     "data": {
      "text/plain": [
       "array([2, 0, 3])"
      ]
     },
     "execution_count": 25,
     "metadata": {},
     "output_type": "execute_result"
    }
   ],
   "source": [
    "a*b\n"
   ]
  },
  {
   "cell_type": "code",
   "execution_count": 26,
   "id": "incorporate-apache",
   "metadata": {},
   "outputs": [
    {
     "data": {
      "text/plain": [
       "array([[ 0,  3],\n",
       "       [10,  0]])"
      ]
     },
     "execution_count": 26,
     "metadata": {},
     "output_type": "execute_result"
    }
   ],
   "source": [
    "x*z"
   ]
  },
  {
   "cell_type": "markdown",
   "id": "waiting-distributor",
   "metadata": {},
   "source": [
    "#### Dot Product\n",
    "Multiplicação dos vetores gerando um escalar, quando dim=1 e uma multiplicação de matrizes quando dim=2"
   ]
  },
  {
   "cell_type": "code",
   "execution_count": 23,
   "id": "terminal-answer",
   "metadata": {},
   "outputs": [
    {
     "data": {
      "text/plain": [
       "5"
      ]
     },
     "execution_count": 23,
     "metadata": {},
     "output_type": "execute_result"
    }
   ],
   "source": [
    "np.dot(a,b)\n"
   ]
  },
  {
   "cell_type": "code",
   "execution_count": 27,
   "id": "independent-infection",
   "metadata": {},
   "outputs": [
    {
     "data": {
      "text/plain": [
       "array([[6, 1],\n",
       "       [6, 5]])"
      ]
     },
     "execution_count": 27,
     "metadata": {},
     "output_type": "execute_result"
    }
   ],
   "source": [
    "np.dot(x,z)"
   ]
  },
  {
   "cell_type": "markdown",
   "id": "three-bahamas",
   "metadata": {},
   "source": [
    "## Comparison"
   ]
  }
 ],
 "metadata": {
  "kernelspec": {
   "display_name": "Python 3",
   "language": "python",
   "name": "python3"
  },
  "language_info": {
   "codemirror_mode": {
    "name": "ipython",
    "version": 3
   },
   "file_extension": ".py",
   "mimetype": "text/x-python",
   "name": "python",
   "nbconvert_exporter": "python",
   "pygments_lexer": "ipython3",
   "version": "3.8.8"
  },
  "toc-autonumbering": false,
  "toc-showcode": true,
  "toc-showmarkdowntxt": false,
  "toc-showtags": false
 },
 "nbformat": 4,
 "nbformat_minor": 5
}
